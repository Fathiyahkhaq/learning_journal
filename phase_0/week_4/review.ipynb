{
 "cells": [
  {
   "cell_type": "code",
   "execution_count": 4,
   "metadata": {},
   "outputs": [],
   "source": [
    "import numpy as np\n",
    "import pandas as pd"
   ]
  },
  {
   "cell_type": "code",
   "execution_count": 7,
   "metadata": {},
   "outputs": [],
   "source": [
    "a = range(1,10)"
   ]
  },
  {
   "cell_type": "code",
   "execution_count": 12,
   "metadata": {},
   "outputs": [
    {
     "ename": "TypeError",
     "evalue": "int() argument must be a string, a bytes-like object or a number, not 'range'",
     "output_type": "error",
     "traceback": [
      "\u001b[1;31m---------------------------------------------------------------------------\u001b[0m",
      "\u001b[1;31mTypeError\u001b[0m                                 Traceback (most recent call last)",
      "\u001b[1;32mC:\\Users\\TIP-CR~1\\AppData\\Local\\Temp/ipykernel_14492/766485689.py\u001b[0m in \u001b[0;36m<module>\u001b[1;34m\u001b[0m\n\u001b[1;32m----> 1\u001b[1;33m \u001b[0mint\u001b[0m\u001b[1;33m(\u001b[0m\u001b[0ma\u001b[0m\u001b[1;33m)\u001b[0m\u001b[1;33m\u001b[0m\u001b[1;33m\u001b[0m\u001b[0m\n\u001b[0m",
      "\u001b[1;31mTypeError\u001b[0m: int() argument must be a string, a bytes-like object or a number, not 'range'"
     ]
    }
   ],
   "source": [
    "int(a)"
   ]
  },
  {
   "cell_type": "code",
   "execution_count": 16,
   "metadata": {},
   "outputs": [
    {
     "name": "stdout",
     "output_type": "stream",
     "text": [
      "Weird\n",
      "Not Weird\n",
      "Weird\n",
      "Not Weird\n",
      "Weird\n",
      "Weird\n",
      "Weird\n",
      "Weird\n",
      "Weird\n",
      "Weird\n",
      "Weird\n",
      "Weird\n",
      "Weird\n",
      "Weird\n",
      "Weird\n",
      "Weird\n",
      "Weird\n",
      "Weird\n",
      "Weird\n",
      "Weird\n",
      "Weird\n",
      "Not Weird\n",
      "Weird\n",
      "Not Weird\n",
      "Weird\n",
      "Not Weird\n",
      "Weird\n",
      "Not Weird\n",
      "Weird\n",
      "Not Weird\n",
      "Weird\n",
      "Not Weird\n",
      "Weird\n",
      "Not Weird\n",
      "Weird\n",
      "Not Weird\n",
      "Weird\n",
      "Not Weird\n",
      "Weird\n",
      "Not Weird\n",
      "Weird\n",
      "Not Weird\n",
      "Weird\n",
      "Not Weird\n",
      "Weird\n",
      "Not Weird\n",
      "Weird\n",
      "Not Weird\n",
      "Weird\n",
      "Not Weird\n",
      "Weird\n",
      "Not Weird\n",
      "Weird\n",
      "Not Weird\n",
      "Weird\n",
      "Not Weird\n",
      "Weird\n",
      "Not Weird\n",
      "Weird\n",
      "Not Weird\n",
      "Weird\n",
      "Not Weird\n",
      "Weird\n",
      "Not Weird\n",
      "Weird\n",
      "Not Weird\n",
      "Weird\n",
      "Not Weird\n",
      "Weird\n",
      "Not Weird\n",
      "Weird\n",
      "Not Weird\n",
      "Weird\n",
      "Not Weird\n",
      "Weird\n",
      "Not Weird\n",
      "Weird\n",
      "Not Weird\n",
      "Weird\n",
      "Not Weird\n",
      "Weird\n",
      "Not Weird\n",
      "Weird\n",
      "Not Weird\n",
      "Weird\n",
      "Not Weird\n",
      "Weird\n",
      "Not Weird\n",
      "Weird\n",
      "Not Weird\n",
      "Weird\n",
      "Not Weird\n",
      "Weird\n",
      "Not Weird\n",
      "Weird\n",
      "Not Weird\n",
      "Weird\n",
      "Not Weird\n",
      "Weird\n"
     ]
    }
   ],
   "source": [
    "for n in range(1,100):\n",
    "    if n%2==0:\n",
    "        if 2<=n<=5:\n",
    "            print('Not Weird')\n",
    "        elif 6<=n<=20:\n",
    "            print('Weird')\n",
    "        else:\n",
    "            print('Not Weird')\n",
    "    else:\n",
    "        print('Weird')\n",
    "        "
   ]
  },
  {
   "cell_type": "code",
   "execution_count": 19,
   "metadata": {},
   "outputs": [
    {
     "name": "stdout",
     "output_type": "stream",
     "text": [
      "Not Weird\n"
     ]
    }
   ],
   "source": [
    "n=24\n",
    "\n",
    "if n%2==1:\n",
    "    print('Weird')\n",
    "elif 2<=n<=5 and n%2==0:\n",
    "    print('Not Weird')\n",
    "elif 6<=n<=20 and n%2==0:\n",
    "    print('Weird')\n",
    "elif n>20 and n<=100:\n",
    "    print('Not Weird')\n",
    "else:\n",
    "    print(' ')"
   ]
  },
  {
   "cell_type": "code",
   "execution_count": 20,
   "metadata": {},
   "outputs": [
    {
     "data": {
      "text/plain": [
       "2"
      ]
     },
     "execution_count": 20,
     "metadata": {},
     "output_type": "execute_result"
    }
   ],
   "source": [
    "int(input())"
   ]
  },
  {
   "cell_type": "code",
   "execution_count": 23,
   "metadata": {},
   "outputs": [
    {
     "name": "stdout",
     "output_type": "stream",
     "text": [
      "3\n",
      "-1\n",
      "2\n"
     ]
    }
   ],
   "source": [
    "if a == input():\n",
    "    a = int(input())\n",
    "    b = int(input())\n",
    "    print(a+b)\n",
    "    print(a-b)\n",
    "    print(a*b)"
   ]
  },
  {
   "cell_type": "code",
   "execution_count": 25,
   "metadata": {},
   "outputs": [],
   "source": [
    "a = int(input())\n",
    "b = int(input())\n",
    "if 1<a<10**10 and 1<b<10**10:\n",
    "    print(a+b)\n",
    "    print(a-b)\n",
    "    print(a*b)"
   ]
  },
  {
   "cell_type": "code",
   "execution_count": 26,
   "metadata": {},
   "outputs": [
    {
     "data": {
      "text/plain": [
       "1.3333333333333333"
      ]
     },
     "execution_count": 26,
     "metadata": {},
     "output_type": "execute_result"
    }
   ],
   "source": [
    "\n",
    "a = int(input())\n",
    "b = int(input())\n",
    "\n",
    "int(a/b)\n",
    "float(a/b)"
   ]
  },
  {
   "cell_type": "code",
   "execution_count": 33,
   "metadata": {},
   "outputs": [
    {
     "name": "stdout",
     "output_type": "stream",
     "text": [
      "0\n",
      "1\n",
      "4\n",
      "9\n",
      "16\n"
     ]
    }
   ],
   "source": [
    "n=int(input())\n",
    "for i in range(0,n):\n",
    "    print(i**2)\n",
    "    i=i+1"
   ]
  },
  {
   "cell_type": "code",
   "execution_count": 45,
   "metadata": {},
   "outputs": [
    {
     "name": "stdout",
     "output_type": "stream",
     "text": [
      "12345"
     ]
    }
   ],
   "source": [
    "n=int(input())\n",
    "for i in range(n):\n",
    "    print(i+1,end=\"\")"
   ]
  },
  {
   "cell_type": "code",
   "execution_count": 46,
   "metadata": {},
   "outputs": [],
   "source": [
    "a=[1,2,3]\n",
    "a[2]=10"
   ]
  },
  {
   "cell_type": "code",
   "execution_count": 47,
   "metadata": {},
   "outputs": [
    {
     "data": {
      "text/plain": [
       "[1, 2, 10]"
      ]
     },
     "execution_count": 47,
     "metadata": {},
     "output_type": "execute_result"
    }
   ],
   "source": [
    "a"
   ]
  },
  {
   "cell_type": "code",
   "execution_count": 48,
   "metadata": {},
   "outputs": [
    {
     "data": {
      "text/plain": [
       "[1, 2, 20]"
      ]
     },
     "execution_count": 48,
     "metadata": {},
     "output_type": "execute_result"
    }
   ],
   "source": [
    "a[-1]=20\n",
    "a"
   ]
  },
  {
   "cell_type": "code",
   "execution_count": 50,
   "metadata": {},
   "outputs": [],
   "source": [
    "a[2]='ya'"
   ]
  },
  {
   "cell_type": "code",
   "execution_count": 51,
   "metadata": {},
   "outputs": [
    {
     "data": {
      "text/plain": [
       "[1, 2, 'ya']"
      ]
     },
     "execution_count": 51,
     "metadata": {},
     "output_type": "execute_result"
    }
   ],
   "source": [
    "a"
   ]
  },
  {
   "cell_type": "code",
   "execution_count": 57,
   "metadata": {},
   "outputs": [],
   "source": [
    "a=[]"
   ]
  },
  {
   "cell_type": "code",
   "execution_count": 58,
   "metadata": {},
   "outputs": [
    {
     "data": {
      "text/plain": [
       "[]"
      ]
     },
     "execution_count": 58,
     "metadata": {},
     "output_type": "execute_result"
    }
   ],
   "source": [
    "a"
   ]
  },
  {
   "cell_type": "code",
   "execution_count": null,
   "metadata": {},
   "outputs": [],
   "source": []
  }
 ],
 "metadata": {
  "interpreter": {
   "hash": "1b0d91e74b504cbed97ef7e4785d593c50c36d2c5677c03928d7f9b967595265"
  },
  "kernelspec": {
   "display_name": "Python 3.9.7 ('base')",
   "language": "python",
   "name": "python3"
  },
  "language_info": {
   "codemirror_mode": {
    "name": "ipython",
    "version": 3
   },
   "file_extension": ".py",
   "mimetype": "text/x-python",
   "name": "python",
   "nbconvert_exporter": "python",
   "pygments_lexer": "ipython3",
   "version": "3.9.7"
  },
  "orig_nbformat": 4
 },
 "nbformat": 4,
 "nbformat_minor": 2
}
