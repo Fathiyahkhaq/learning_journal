{
 "cells": [
  {
   "cell_type": "markdown",
   "metadata": {},
   "source": [
    "# Non Graded Challenge 1\n",
    "## FTDS Batch 009\n",
    "Fathiyah Kalamal Haq"
   ]
  },
  {
   "cell_type": "code",
   "execution_count": 2,
   "metadata": {},
   "outputs": [],
   "source": [
    "numbers = [\n",
    "  951, 402, 984, 651, 360, 69, 408, 319, 601, 485, 980,\n",
    "  507, 725, 547, 544, 615, 83, 165, 141, 501, 263, 617, \n",
    "  865, 575, 219, 390, 984, 592, 236, 105, 942, 941, 386, \n",
    "  462, 47, 418, 907, 344, 236, 375, 823, 566, 597, 978, \n",
    "  328, 615, 953, 345, 399, 162, 758, 219, 918, 237, 412, \n",
    "  566, 826, 248, 866, 950, 626, 949\n",
    "]"
   ]
  },
  {
   "cell_type": "code",
   "execution_count": 5,
   "metadata": {},
   "outputs": [
    {
     "name": "stdout",
     "output_type": "stream",
     "text": [
      "402\n",
      "984\n",
      "360\n",
      "408\n",
      "980\n",
      "544\n",
      "390\n",
      "984\n",
      "592\n",
      "236\n",
      "942\n",
      "386\n",
      "462\n",
      "418\n",
      "344\n",
      "236\n",
      "566\n",
      "978\n",
      "328\n",
      "162\n",
      "758\n",
      "Done\n"
     ]
    }
   ],
   "source": [
    "i=0\n",
    "\n",
    "while numbers[i] != 918:\n",
    "    if numbers[i] % 2 == 0:\n",
    "        print(numbers[i])\n",
    "    i = i + 1  \n",
    "print('Done')\n"
   ]
  },
  {
   "cell_type": "code",
   "execution_count": null,
   "metadata": {},
   "outputs": [],
   "source": []
  }
 ],
 "metadata": {
  "interpreter": {
   "hash": "1b0d91e74b504cbed97ef7e4785d593c50c36d2c5677c03928d7f9b967595265"
  },
  "kernelspec": {
   "display_name": "Python 3.9.7 ('base')",
   "language": "python",
   "name": "python3"
  },
  "language_info": {
   "codemirror_mode": {
    "name": "ipython",
    "version": 3
   },
   "file_extension": ".py",
   "mimetype": "text/x-python",
   "name": "python",
   "nbconvert_exporter": "python",
   "pygments_lexer": "ipython3",
   "version": "3.9.7"
  },
  "orig_nbformat": 4
 },
 "nbformat": 4,
 "nbformat_minor": 2
}
