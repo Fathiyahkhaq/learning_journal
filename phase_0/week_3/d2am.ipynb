{
 "cells": [
  {
   "cell_type": "code",
   "execution_count": 4,
   "metadata": {},
   "outputs": [],
   "source": [
    "import math\n",
    "import numpy as np"
   ]
  },
  {
   "cell_type": "code",
   "execution_count": 16,
   "metadata": {},
   "outputs": [
    {
     "data": {
      "text/plain": [
       "2.4"
      ]
     },
     "execution_count": 16,
     "metadata": {},
     "output_type": "execute_result"
    }
   ],
   "source": [
    "def variance(data, ddof=0):\n",
    "    n=len(data)\n",
    "    mean = sum(data)/n\n",
    "    return sum((x-mean)**2 for x in data)/(n-ddof)\n",
    "def stdev(data):\n",
    "    var = variance(data)\n",
    "    std_dev = np.sqrt(var)\n",
    "    return std_dev\n",
    "\n",
    "stdev([4,8,6,5,3,2,8,9,2,5])"
   ]
  },
  {
   "cell_type": "code",
   "execution_count": 17,
   "metadata": {},
   "outputs": [
    {
     "data": {
      "text/plain": [
       "2.4"
      ]
     },
     "execution_count": 17,
     "metadata": {},
     "output_type": "execute_result"
    }
   ],
   "source": [
    "def variance(data, ddof=0):\n",
    "    n=len(data)\n",
    "    mean = sum(data)/n\n",
    "    return sum((x-mean)**2 for x in data)/(n-ddof)\n",
    "def stdev(data):\n",
    "    var = variance(data)\n",
    "    std_dev = math.sqrt(var)\n",
    "    return std_dev\n",
    "\n",
    "stdev([4,8,6,5,3,2,8,9,2,5])"
   ]
  },
  {
   "cell_type": "code",
   "execution_count": 18,
   "metadata": {},
   "outputs": [
    {
     "data": {
      "text/plain": [
       "0.7142857142857143"
      ]
     },
     "execution_count": 18,
     "metadata": {},
     "output_type": "execute_result"
    }
   ],
   "source": [
    "5/7"
   ]
  },
  {
   "cell_type": "code",
   "execution_count": null,
   "metadata": {},
   "outputs": [],
   "source": []
  }
 ],
 "metadata": {
  "interpreter": {
   "hash": "1b0d91e74b504cbed97ef7e4785d593c50c36d2c5677c03928d7f9b967595265"
  },
  "kernelspec": {
   "display_name": "Python 3.9.7 ('base')",
   "language": "python",
   "name": "python3"
  },
  "language_info": {
   "codemirror_mode": {
    "name": "ipython",
    "version": 3
   },
   "file_extension": ".py",
   "mimetype": "text/x-python",
   "name": "python",
   "nbconvert_exporter": "python",
   "pygments_lexer": "ipython3",
   "version": "3.9.7"
  },
  "orig_nbformat": 4
 },
 "nbformat": 4,
 "nbformat_minor": 2
}
