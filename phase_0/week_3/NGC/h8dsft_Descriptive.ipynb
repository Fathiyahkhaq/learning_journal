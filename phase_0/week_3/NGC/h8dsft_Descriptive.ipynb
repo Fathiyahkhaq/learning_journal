{
 "cells": [
  {
   "cell_type": "markdown",
   "metadata": {},
   "source": [
    "# Non Graded Challenge 11\n",
    "## Fathiyah Kalamal Haq - Batch 009\n",
    "Desciptive Statistics"
   ]
  },
  {
   "cell_type": "code",
   "execution_count": 2,
   "metadata": {},
   "outputs": [],
   "source": [
    "import pandas as pd"
   ]
  },
  {
   "cell_type": "code",
   "execution_count": 3,
   "metadata": {},
   "outputs": [],
   "source": [
    "covid = pd.read_csv('covid_19_indonesia_time_series_all.csv')"
   ]
  },
  {
   "cell_type": "code",
   "execution_count": 4,
   "metadata": {},
   "outputs": [
    {
     "data": {
      "text/html": [
       "<div>\n",
       "<style scoped>\n",
       "    .dataframe tbody tr th:only-of-type {\n",
       "        vertical-align: middle;\n",
       "    }\n",
       "\n",
       "    .dataframe tbody tr th {\n",
       "        vertical-align: top;\n",
       "    }\n",
       "\n",
       "    .dataframe thead th {\n",
       "        text-align: right;\n",
       "    }\n",
       "</style>\n",
       "<table border=\"1\" class=\"dataframe\">\n",
       "  <thead>\n",
       "    <tr style=\"text-align: right;\">\n",
       "      <th></th>\n",
       "      <th>Date</th>\n",
       "      <th>Location ISO Code</th>\n",
       "      <th>Location</th>\n",
       "      <th>New Cases</th>\n",
       "      <th>New Deaths</th>\n",
       "      <th>New Recovered</th>\n",
       "      <th>New Active Cases</th>\n",
       "      <th>Total Cases</th>\n",
       "      <th>Total Deaths</th>\n",
       "      <th>Total Recovered</th>\n",
       "      <th>...</th>\n",
       "      <th>Latitude</th>\n",
       "      <th>New Cases per Million</th>\n",
       "      <th>Total Cases per Million</th>\n",
       "      <th>New Deaths per Million</th>\n",
       "      <th>Total Deaths per Million</th>\n",
       "      <th>Total Deaths per 100rb</th>\n",
       "      <th>Case Fatality Rate</th>\n",
       "      <th>Case Recovered Rate</th>\n",
       "      <th>Growth Factor of New Cases</th>\n",
       "      <th>Growth Factor of New Deaths</th>\n",
       "    </tr>\n",
       "  </thead>\n",
       "  <tbody>\n",
       "    <tr>\n",
       "      <th>1508</th>\n",
       "      <td>5/2/2020</td>\n",
       "      <td>ID-SG</td>\n",
       "      <td>Sulawesi Tenggara</td>\n",
       "      <td>2</td>\n",
       "      <td>0</td>\n",
       "      <td>0</td>\n",
       "      <td>2</td>\n",
       "      <td>64</td>\n",
       "      <td>2</td>\n",
       "      <td>11</td>\n",
       "      <td>...</td>\n",
       "      <td>-4.124689</td>\n",
       "      <td>0.76</td>\n",
       "      <td>24.28</td>\n",
       "      <td>0.00</td>\n",
       "      <td>0.76</td>\n",
       "      <td>0.08</td>\n",
       "      <td>3.13%</td>\n",
       "      <td>17.19%</td>\n",
       "      <td>NaN</td>\n",
       "      <td>1.00</td>\n",
       "    </tr>\n",
       "    <tr>\n",
       "      <th>13547</th>\n",
       "      <td>4/11/2021</td>\n",
       "      <td>ID-ST</td>\n",
       "      <td>Sulawesi Tengah</td>\n",
       "      <td>8</td>\n",
       "      <td>1</td>\n",
       "      <td>39</td>\n",
       "      <td>-32</td>\n",
       "      <td>11530</td>\n",
       "      <td>308</td>\n",
       "      <td>10497</td>\n",
       "      <td>...</td>\n",
       "      <td>-1.004137</td>\n",
       "      <td>2.71</td>\n",
       "      <td>3901.11</td>\n",
       "      <td>0.34</td>\n",
       "      <td>104.21</td>\n",
       "      <td>10.42</td>\n",
       "      <td>2.67%</td>\n",
       "      <td>91.04%</td>\n",
       "      <td>0.40</td>\n",
       "      <td>1.00</td>\n",
       "    </tr>\n",
       "    <tr>\n",
       "      <th>15442</th>\n",
       "      <td>6/4/2021</td>\n",
       "      <td>ID-SU</td>\n",
       "      <td>Sumatera Utara</td>\n",
       "      <td>97</td>\n",
       "      <td>5</td>\n",
       "      <td>76</td>\n",
       "      <td>16</td>\n",
       "      <td>32374</td>\n",
       "      <td>1060</td>\n",
       "      <td>28838</td>\n",
       "      <td>...</td>\n",
       "      <td>2.191894</td>\n",
       "      <td>6.52</td>\n",
       "      <td>2176.42</td>\n",
       "      <td>0.34</td>\n",
       "      <td>71.26</td>\n",
       "      <td>7.13</td>\n",
       "      <td>3.27%</td>\n",
       "      <td>89.08%</td>\n",
       "      <td>1.01</td>\n",
       "      <td>NaN</td>\n",
       "    </tr>\n",
       "    <tr>\n",
       "      <th>5971</th>\n",
       "      <td>9/7/2020</td>\n",
       "      <td>ID-KS</td>\n",
       "      <td>Kalimantan Selatan</td>\n",
       "      <td>77</td>\n",
       "      <td>2</td>\n",
       "      <td>49</td>\n",
       "      <td>26</td>\n",
       "      <td>8837</td>\n",
       "      <td>371</td>\n",
       "      <td>6850</td>\n",
       "      <td>...</td>\n",
       "      <td>-2.993595</td>\n",
       "      <td>19.14</td>\n",
       "      <td>2196.59</td>\n",
       "      <td>0.50</td>\n",
       "      <td>92.22</td>\n",
       "      <td>9.22</td>\n",
       "      <td>4.20%</td>\n",
       "      <td>77.51%</td>\n",
       "      <td>0.75</td>\n",
       "      <td>2.00</td>\n",
       "    </tr>\n",
       "    <tr>\n",
       "      <th>17757</th>\n",
       "      <td>8/10/2021</td>\n",
       "      <td>ID-JK</td>\n",
       "      <td>DKI Jakarta</td>\n",
       "      <td>1426</td>\n",
       "      <td>40</td>\n",
       "      <td>1174</td>\n",
       "      <td>212</td>\n",
       "      <td>833654</td>\n",
       "      <td>12852</td>\n",
       "      <td>810213</td>\n",
       "      <td>...</td>\n",
       "      <td>-6.204699</td>\n",
       "      <td>131.48</td>\n",
       "      <td>76861.78</td>\n",
       "      <td>3.69</td>\n",
       "      <td>1184.94</td>\n",
       "      <td>118.49</td>\n",
       "      <td>1.54%</td>\n",
       "      <td>97.19%</td>\n",
       "      <td>1.96</td>\n",
       "      <td>2.86</td>\n",
       "    </tr>\n",
       "  </tbody>\n",
       "</table>\n",
       "<p>5 rows × 38 columns</p>\n",
       "</div>"
      ],
      "text/plain": [
       "            Date Location ISO Code            Location  New Cases  New Deaths  \\\n",
       "1508    5/2/2020             ID-SG   Sulawesi Tenggara          2           0   \n",
       "13547  4/11/2021             ID-ST     Sulawesi Tengah          8           1   \n",
       "15442   6/4/2021             ID-SU      Sumatera Utara         97           5   \n",
       "5971    9/7/2020             ID-KS  Kalimantan Selatan         77           2   \n",
       "17757  8/10/2021             ID-JK         DKI Jakarta       1426          40   \n",
       "\n",
       "       New Recovered  New Active Cases  Total Cases  Total Deaths  \\\n",
       "1508               0                 2           64             2   \n",
       "13547             39               -32        11530           308   \n",
       "15442             76                16        32374          1060   \n",
       "5971              49                26         8837           371   \n",
       "17757           1174               212       833654         12852   \n",
       "\n",
       "       Total Recovered  ...  Latitude New Cases per Million  \\\n",
       "1508                11  ... -4.124689                  0.76   \n",
       "13547            10497  ... -1.004137                  2.71   \n",
       "15442            28838  ...  2.191894                  6.52   \n",
       "5971              6850  ... -2.993595                 19.14   \n",
       "17757           810213  ... -6.204699                131.48   \n",
       "\n",
       "       Total Cases per Million New Deaths per Million  \\\n",
       "1508                     24.28                   0.00   \n",
       "13547                  3901.11                   0.34   \n",
       "15442                  2176.42                   0.34   \n",
       "5971                   2196.59                   0.50   \n",
       "17757                 76861.78                   3.69   \n",
       "\n",
       "      Total Deaths per Million Total Deaths per 100rb Case Fatality Rate  \\\n",
       "1508                      0.76                   0.08              3.13%   \n",
       "13547                   104.21                  10.42              2.67%   \n",
       "15442                    71.26                   7.13              3.27%   \n",
       "5971                     92.22                   9.22              4.20%   \n",
       "17757                  1184.94                 118.49              1.54%   \n",
       "\n",
       "      Case Recovered Rate Growth Factor of New Cases  \\\n",
       "1508               17.19%                        NaN   \n",
       "13547              91.04%                       0.40   \n",
       "15442              89.08%                       1.01   \n",
       "5971               77.51%                       0.75   \n",
       "17757              97.19%                       1.96   \n",
       "\n",
       "       Growth Factor of New Deaths  \n",
       "1508                          1.00  \n",
       "13547                         1.00  \n",
       "15442                          NaN  \n",
       "5971                          2.00  \n",
       "17757                         2.86  \n",
       "\n",
       "[5 rows x 38 columns]"
      ]
     },
     "execution_count": 4,
     "metadata": {},
     "output_type": "execute_result"
    }
   ],
   "source": [
    "covid.sample(5)"
   ]
  },
  {
   "cell_type": "code",
   "execution_count": 5,
   "metadata": {},
   "outputs": [
    {
     "data": {
      "text/plain": [
       "76712.6024633485"
      ]
     },
     "execution_count": 5,
     "metadata": {},
     "output_type": "execute_result"
    }
   ],
   "source": [
    "covid['Total Recovered'].mean()"
   ]
  },
  {
   "cell_type": "code",
   "execution_count": 6,
   "metadata": {},
   "outputs": [
    {
     "data": {
      "text/plain": [
       "8745.0"
      ]
     },
     "execution_count": 6,
     "metadata": {},
     "output_type": "execute_result"
    }
   ],
   "source": [
    "covid['Total Recovered'].median()"
   ]
  },
  {
   "cell_type": "markdown",
   "metadata": {},
   "source": [
    "Rata-rata per hari, pasien covid yang sembuh sebanyak 76713 pasien."
   ]
  },
  {
   "cell_type": "code",
   "execution_count": 7,
   "metadata": {},
   "outputs": [
    {
     "data": {
      "text/plain": [
       "391.29357966818327"
      ]
     },
     "execution_count": 7,
     "metadata": {},
     "output_type": "execute_result"
    }
   ],
   "source": [
    "covid['New Cases'].mean()"
   ]
  },
  {
   "cell_type": "code",
   "execution_count": null,
   "metadata": {},
   "outputs": [],
   "source": []
  },
  {
   "cell_type": "markdown",
   "metadata": {},
   "source": [
    "# Measure of Central Tendency"
   ]
  },
  {
   "cell_type": "code",
   "execution_count": 11,
   "metadata": {},
   "outputs": [
    {
     "name": "stdout",
     "output_type": "stream",
     "text": [
      "Central Tendency's Measures of Total recovered\n",
      "Min: 0\n",
      "Mode: 0\n",
      "Median: 8745.0\n",
      "Mean: 76712.6024633485\n",
      "Max: 4105680\n"
     ]
    }
   ],
   "source": [
    "print(\"Central Tendency's Measures of Total recovered\")\n",
    "print('Min: ' + str(covid['Total Recovered'].min()))\n",
    "print('Mode: ' + str(covid['Total Recovered'].mode()[0]))\n",
    "print('Median: ' + str(covid['Total Recovered'].median()))\n",
    "print('Mean: ' + str(covid['Total Recovered'].mean()))\n",
    "print('Max: ' + str(covid['Total Recovered'].max()))"
   ]
  },
  {
   "cell_type": "code",
   "execution_count": 12,
   "metadata": {},
   "outputs": [
    {
     "name": "stdout",
     "output_type": "stream",
     "text": [
      "Central Tendency's Measures of New Cases\n",
      "Min: 0\n",
      "Mode: 0\n",
      "Median: 41.0\n",
      "Mean: 391.29357966818327\n",
      "Max: 56757\n"
     ]
    }
   ],
   "source": [
    "print(\"Central Tendency's Measures of New Cases\")\n",
    "print('Min: ' + str(covid['New Cases'].min()))\n",
    "print('Mode: ' + str(covid['New Cases'].mode()[0]))\n",
    "print('Median: ' + str(covid['New Cases'].median()))\n",
    "print('Mean: ' + str(covid['New Cases'].mean()))\n",
    "print('Max: ' + str(covid['New Cases'].max()))"
   ]
  },
  {
   "cell_type": "markdown",
   "metadata": {},
   "source": [
    "# Measure of Variance"
   ]
  },
  {
   "cell_type": "code",
   "execution_count": null,
   "metadata": {},
   "outputs": [],
   "source": [
    "stats.percentileofscore(covid['Total Recovered'], 57, 'strict')"
   ]
  },
  {
   "cell_type": "code",
   "execution_count": 17,
   "metadata": {},
   "outputs": [
    {
     "name": "stdout",
     "output_type": "stream",
     "text": [
      "14.285714285714285\n"
     ]
    }
   ],
   "source": [
    "import pandas as pd\n",
    "from scipy import stats\n",
    "\n",
    "df = pd.DataFrame({'Name': ['Dan', 'Joann', 'Pedro', 'Rosie', 'Ethan', 'Vicky', 'Frederic'],\n",
    "                   'Salary':[50000,54000,50000,189000,55000,40000,59000],\n",
    "                   'Hours':[41,40,36,30,35,39,40],\n",
    "                   'Grade':[50,50,46,95,50,5,57]})\n",
    "\n",
    "print(stats.percentileofscore(df['Grade'], 7, 'strict'))"
   ]
  },
  {
   "cell_type": "code",
   "execution_count": 18,
   "metadata": {},
   "outputs": [
    {
     "data": {
      "text/html": [
       "<div>\n",
       "<style scoped>\n",
       "    .dataframe tbody tr th:only-of-type {\n",
       "        vertical-align: middle;\n",
       "    }\n",
       "\n",
       "    .dataframe tbody tr th {\n",
       "        vertical-align: top;\n",
       "    }\n",
       "\n",
       "    .dataframe thead th {\n",
       "        text-align: right;\n",
       "    }\n",
       "</style>\n",
       "<table border=\"1\" class=\"dataframe\">\n",
       "  <thead>\n",
       "    <tr style=\"text-align: right;\">\n",
       "      <th></th>\n",
       "      <th>Name</th>\n",
       "      <th>Salary</th>\n",
       "      <th>Hours</th>\n",
       "      <th>Grade</th>\n",
       "    </tr>\n",
       "  </thead>\n",
       "  <tbody>\n",
       "    <tr>\n",
       "      <th>0</th>\n",
       "      <td>Dan</td>\n",
       "      <td>50000</td>\n",
       "      <td>41</td>\n",
       "      <td>50</td>\n",
       "    </tr>\n",
       "    <tr>\n",
       "      <th>1</th>\n",
       "      <td>Joann</td>\n",
       "      <td>54000</td>\n",
       "      <td>40</td>\n",
       "      <td>50</td>\n",
       "    </tr>\n",
       "    <tr>\n",
       "      <th>2</th>\n",
       "      <td>Pedro</td>\n",
       "      <td>50000</td>\n",
       "      <td>36</td>\n",
       "      <td>46</td>\n",
       "    </tr>\n",
       "    <tr>\n",
       "      <th>3</th>\n",
       "      <td>Rosie</td>\n",
       "      <td>189000</td>\n",
       "      <td>30</td>\n",
       "      <td>95</td>\n",
       "    </tr>\n",
       "    <tr>\n",
       "      <th>4</th>\n",
       "      <td>Ethan</td>\n",
       "      <td>55000</td>\n",
       "      <td>35</td>\n",
       "      <td>50</td>\n",
       "    </tr>\n",
       "    <tr>\n",
       "      <th>5</th>\n",
       "      <td>Vicky</td>\n",
       "      <td>40000</td>\n",
       "      <td>39</td>\n",
       "      <td>5</td>\n",
       "    </tr>\n",
       "    <tr>\n",
       "      <th>6</th>\n",
       "      <td>Frederic</td>\n",
       "      <td>59000</td>\n",
       "      <td>40</td>\n",
       "      <td>57</td>\n",
       "    </tr>\n",
       "  </tbody>\n",
       "</table>\n",
       "</div>"
      ],
      "text/plain": [
       "       Name  Salary  Hours  Grade\n",
       "0       Dan   50000     41     50\n",
       "1     Joann   54000     40     50\n",
       "2     Pedro   50000     36     46\n",
       "3     Rosie  189000     30     95\n",
       "4     Ethan   55000     35     50\n",
       "5     Vicky   40000     39      5\n",
       "6  Frederic   59000     40     57"
      ]
     },
     "execution_count": 18,
     "metadata": {},
     "output_type": "execute_result"
    }
   ],
   "source": [
    "df"
   ]
  },
  {
   "cell_type": "code",
   "execution_count": 19,
   "metadata": {},
   "outputs": [
    {
     "data": {
      "text/html": [
       "<div>\n",
       "<style scoped>\n",
       "    .dataframe tbody tr th:only-of-type {\n",
       "        vertical-align: middle;\n",
       "    }\n",
       "\n",
       "    .dataframe tbody tr th {\n",
       "        vertical-align: top;\n",
       "    }\n",
       "\n",
       "    .dataframe thead th {\n",
       "        text-align: right;\n",
       "    }\n",
       "</style>\n",
       "<table border=\"1\" class=\"dataframe\">\n",
       "  <thead>\n",
       "    <tr style=\"text-align: right;\">\n",
       "      <th></th>\n",
       "      <th>Date</th>\n",
       "      <th>Location ISO Code</th>\n",
       "      <th>Location</th>\n",
       "      <th>New Cases</th>\n",
       "      <th>New Deaths</th>\n",
       "      <th>New Recovered</th>\n",
       "      <th>New Active Cases</th>\n",
       "      <th>Total Cases</th>\n",
       "      <th>Total Deaths</th>\n",
       "      <th>Total Recovered</th>\n",
       "      <th>...</th>\n",
       "      <th>Latitude</th>\n",
       "      <th>New Cases per Million</th>\n",
       "      <th>Total Cases per Million</th>\n",
       "      <th>New Deaths per Million</th>\n",
       "      <th>Total Deaths per Million</th>\n",
       "      <th>Total Deaths per 100rb</th>\n",
       "      <th>Case Fatality Rate</th>\n",
       "      <th>Case Recovered Rate</th>\n",
       "      <th>Growth Factor of New Cases</th>\n",
       "      <th>Growth Factor of New Deaths</th>\n",
       "    </tr>\n",
       "  </thead>\n",
       "  <tbody>\n",
       "    <tr>\n",
       "      <th>0</th>\n",
       "      <td>3/1/2020</td>\n",
       "      <td>ID-JK</td>\n",
       "      <td>DKI Jakarta</td>\n",
       "      <td>2</td>\n",
       "      <td>0</td>\n",
       "      <td>0</td>\n",
       "      <td>2</td>\n",
       "      <td>39</td>\n",
       "      <td>20</td>\n",
       "      <td>41</td>\n",
       "      <td>...</td>\n",
       "      <td>-6.204699</td>\n",
       "      <td>0.18</td>\n",
       "      <td>3.60</td>\n",
       "      <td>0.00</td>\n",
       "      <td>1.84</td>\n",
       "      <td>0.18</td>\n",
       "      <td>51.28%</td>\n",
       "      <td>105.13%</td>\n",
       "      <td>NaN</td>\n",
       "      <td>NaN</td>\n",
       "    </tr>\n",
       "    <tr>\n",
       "      <th>1</th>\n",
       "      <td>3/2/2020</td>\n",
       "      <td>ID-JK</td>\n",
       "      <td>DKI Jakarta</td>\n",
       "      <td>2</td>\n",
       "      <td>0</td>\n",
       "      <td>0</td>\n",
       "      <td>2</td>\n",
       "      <td>41</td>\n",
       "      <td>20</td>\n",
       "      <td>41</td>\n",
       "      <td>...</td>\n",
       "      <td>-6.204699</td>\n",
       "      <td>0.18</td>\n",
       "      <td>3.78</td>\n",
       "      <td>0.00</td>\n",
       "      <td>1.84</td>\n",
       "      <td>0.18</td>\n",
       "      <td>48.78%</td>\n",
       "      <td>100.00%</td>\n",
       "      <td>1.00</td>\n",
       "      <td>1.0</td>\n",
       "    </tr>\n",
       "    <tr>\n",
       "      <th>2</th>\n",
       "      <td>3/2/2020</td>\n",
       "      <td>IDN</td>\n",
       "      <td>Indonesia</td>\n",
       "      <td>2</td>\n",
       "      <td>0</td>\n",
       "      <td>0</td>\n",
       "      <td>2</td>\n",
       "      <td>2</td>\n",
       "      <td>0</td>\n",
       "      <td>0</td>\n",
       "      <td>...</td>\n",
       "      <td>-0.789275</td>\n",
       "      <td>0.01</td>\n",
       "      <td>0.01</td>\n",
       "      <td>0.00</td>\n",
       "      <td>0.00</td>\n",
       "      <td>0.00</td>\n",
       "      <td>0.00%</td>\n",
       "      <td>0.00%</td>\n",
       "      <td>NaN</td>\n",
       "      <td>NaN</td>\n",
       "    </tr>\n",
       "    <tr>\n",
       "      <th>3</th>\n",
       "      <td>3/2/2020</td>\n",
       "      <td>ID-RI</td>\n",
       "      <td>Riau</td>\n",
       "      <td>1</td>\n",
       "      <td>0</td>\n",
       "      <td>0</td>\n",
       "      <td>1</td>\n",
       "      <td>2</td>\n",
       "      <td>0</td>\n",
       "      <td>3</td>\n",
       "      <td>...</td>\n",
       "      <td>0.511648</td>\n",
       "      <td>0.16</td>\n",
       "      <td>0.33</td>\n",
       "      <td>0.00</td>\n",
       "      <td>0.00</td>\n",
       "      <td>0.00</td>\n",
       "      <td>0.00%</td>\n",
       "      <td>150.00%</td>\n",
       "      <td>NaN</td>\n",
       "      <td>NaN</td>\n",
       "    </tr>\n",
       "    <tr>\n",
       "      <th>4</th>\n",
       "      <td>3/3/2020</td>\n",
       "      <td>ID-JK</td>\n",
       "      <td>DKI Jakarta</td>\n",
       "      <td>2</td>\n",
       "      <td>0</td>\n",
       "      <td>0</td>\n",
       "      <td>2</td>\n",
       "      <td>43</td>\n",
       "      <td>20</td>\n",
       "      <td>41</td>\n",
       "      <td>...</td>\n",
       "      <td>-6.204699</td>\n",
       "      <td>0.18</td>\n",
       "      <td>3.96</td>\n",
       "      <td>0.00</td>\n",
       "      <td>1.84</td>\n",
       "      <td>0.18</td>\n",
       "      <td>46.51%</td>\n",
       "      <td>95.35%</td>\n",
       "      <td>1.00</td>\n",
       "      <td>1.0</td>\n",
       "    </tr>\n",
       "    <tr>\n",
       "      <th>...</th>\n",
       "      <td>...</td>\n",
       "      <td>...</td>\n",
       "      <td>...</td>\n",
       "      <td>...</td>\n",
       "      <td>...</td>\n",
       "      <td>...</td>\n",
       "      <td>...</td>\n",
       "      <td>...</td>\n",
       "      <td>...</td>\n",
       "      <td>...</td>\n",
       "      <td>...</td>\n",
       "      <td>...</td>\n",
       "      <td>...</td>\n",
       "      <td>...</td>\n",
       "      <td>...</td>\n",
       "      <td>...</td>\n",
       "      <td>...</td>\n",
       "      <td>...</td>\n",
       "      <td>...</td>\n",
       "      <td>...</td>\n",
       "      <td>...</td>\n",
       "    </tr>\n",
       "    <tr>\n",
       "      <th>21754</th>\n",
       "      <td>12/2/2021</td>\n",
       "      <td>ID-SA</td>\n",
       "      <td>Sulawesi Utara</td>\n",
       "      <td>2</td>\n",
       "      <td>0</td>\n",
       "      <td>0</td>\n",
       "      <td>2</td>\n",
       "      <td>34715</td>\n",
       "      <td>1056</td>\n",
       "      <td>33566</td>\n",
       "      <td>...</td>\n",
       "      <td>1.259638</td>\n",
       "      <td>0.76</td>\n",
       "      <td>13140.24</td>\n",
       "      <td>0.00</td>\n",
       "      <td>399.71</td>\n",
       "      <td>39.97</td>\n",
       "      <td>3.04%</td>\n",
       "      <td>96.69%</td>\n",
       "      <td>NaN</td>\n",
       "      <td>1.0</td>\n",
       "    </tr>\n",
       "    <tr>\n",
       "      <th>21755</th>\n",
       "      <td>12/2/2021</td>\n",
       "      <td>ID-SB</td>\n",
       "      <td>Sumatera Barat</td>\n",
       "      <td>4</td>\n",
       "      <td>0</td>\n",
       "      <td>0</td>\n",
       "      <td>4</td>\n",
       "      <td>89849</td>\n",
       "      <td>2152</td>\n",
       "      <td>87605</td>\n",
       "      <td>...</td>\n",
       "      <td>-0.850253</td>\n",
       "      <td>0.72</td>\n",
       "      <td>16279.22</td>\n",
       "      <td>0.00</td>\n",
       "      <td>389.91</td>\n",
       "      <td>38.99</td>\n",
       "      <td>2.40%</td>\n",
       "      <td>97.50%</td>\n",
       "      <td>4.00</td>\n",
       "      <td>1.0</td>\n",
       "    </tr>\n",
       "    <tr>\n",
       "      <th>21756</th>\n",
       "      <td>12/2/2021</td>\n",
       "      <td>ID-SS</td>\n",
       "      <td>Sumatera Selatan</td>\n",
       "      <td>4</td>\n",
       "      <td>0</td>\n",
       "      <td>0</td>\n",
       "      <td>4</td>\n",
       "      <td>59937</td>\n",
       "      <td>3071</td>\n",
       "      <td>56830</td>\n",
       "      <td>...</td>\n",
       "      <td>-3.216212</td>\n",
       "      <td>0.49</td>\n",
       "      <td>7293.78</td>\n",
       "      <td>0.00</td>\n",
       "      <td>373.71</td>\n",
       "      <td>37.37</td>\n",
       "      <td>5.12%</td>\n",
       "      <td>94.82%</td>\n",
       "      <td>4.00</td>\n",
       "      <td>1.0</td>\n",
       "    </tr>\n",
       "    <tr>\n",
       "      <th>21757</th>\n",
       "      <td>12/2/2021</td>\n",
       "      <td>ID-SU</td>\n",
       "      <td>Sumatera Utara</td>\n",
       "      <td>4</td>\n",
       "      <td>0</td>\n",
       "      <td>1</td>\n",
       "      <td>3</td>\n",
       "      <td>106045</td>\n",
       "      <td>2889</td>\n",
       "      <td>103061</td>\n",
       "      <td>...</td>\n",
       "      <td>2.191894</td>\n",
       "      <td>0.27</td>\n",
       "      <td>7129.13</td>\n",
       "      <td>0.00</td>\n",
       "      <td>194.22</td>\n",
       "      <td>19.42</td>\n",
       "      <td>2.72%</td>\n",
       "      <td>97.19%</td>\n",
       "      <td>1.00</td>\n",
       "      <td>1.0</td>\n",
       "    </tr>\n",
       "    <tr>\n",
       "      <th>21758</th>\n",
       "      <td>12/3/2021</td>\n",
       "      <td>IDN</td>\n",
       "      <td>Indonesia</td>\n",
       "      <td>245</td>\n",
       "      <td>8</td>\n",
       "      <td>328</td>\n",
       "      <td>-91</td>\n",
       "      <td>4257243</td>\n",
       "      <td>143858</td>\n",
       "      <td>4105680</td>\n",
       "      <td>...</td>\n",
       "      <td>-0.789275</td>\n",
       "      <td>0.92</td>\n",
       "      <td>16053.83</td>\n",
       "      <td>0.03</td>\n",
       "      <td>542.48</td>\n",
       "      <td>54.25</td>\n",
       "      <td>3.38%</td>\n",
       "      <td>96.44%</td>\n",
       "      <td>0.79</td>\n",
       "      <td>0.8</td>\n",
       "    </tr>\n",
       "  </tbody>\n",
       "</table>\n",
       "<p>21759 rows × 38 columns</p>\n",
       "</div>"
      ],
      "text/plain": [
       "            Date Location ISO Code          Location  New Cases  New Deaths  \\\n",
       "0       3/1/2020             ID-JK       DKI Jakarta          2           0   \n",
       "1       3/2/2020             ID-JK       DKI Jakarta          2           0   \n",
       "2       3/2/2020               IDN         Indonesia          2           0   \n",
       "3       3/2/2020             ID-RI              Riau          1           0   \n",
       "4       3/3/2020             ID-JK       DKI Jakarta          2           0   \n",
       "...          ...               ...               ...        ...         ...   \n",
       "21754  12/2/2021             ID-SA    Sulawesi Utara          2           0   \n",
       "21755  12/2/2021             ID-SB    Sumatera Barat          4           0   \n",
       "21756  12/2/2021             ID-SS  Sumatera Selatan          4           0   \n",
       "21757  12/2/2021             ID-SU    Sumatera Utara          4           0   \n",
       "21758  12/3/2021               IDN         Indonesia        245           8   \n",
       "\n",
       "       New Recovered  New Active Cases  Total Cases  Total Deaths  \\\n",
       "0                  0                 2           39            20   \n",
       "1                  0                 2           41            20   \n",
       "2                  0                 2            2             0   \n",
       "3                  0                 1            2             0   \n",
       "4                  0                 2           43            20   \n",
       "...              ...               ...          ...           ...   \n",
       "21754              0                 2        34715          1056   \n",
       "21755              0                 4        89849          2152   \n",
       "21756              0                 4        59937          3071   \n",
       "21757              1                 3       106045          2889   \n",
       "21758            328               -91      4257243        143858   \n",
       "\n",
       "       Total Recovered  ...  Latitude New Cases per Million  \\\n",
       "0                   41  ... -6.204699                  0.18   \n",
       "1                   41  ... -6.204699                  0.18   \n",
       "2                    0  ... -0.789275                  0.01   \n",
       "3                    3  ...  0.511648                  0.16   \n",
       "4                   41  ... -6.204699                  0.18   \n",
       "...                ...  ...       ...                   ...   \n",
       "21754            33566  ...  1.259638                  0.76   \n",
       "21755            87605  ... -0.850253                  0.72   \n",
       "21756            56830  ... -3.216212                  0.49   \n",
       "21757           103061  ...  2.191894                  0.27   \n",
       "21758          4105680  ... -0.789275                  0.92   \n",
       "\n",
       "       Total Cases per Million New Deaths per Million  \\\n",
       "0                         3.60                   0.00   \n",
       "1                         3.78                   0.00   \n",
       "2                         0.01                   0.00   \n",
       "3                         0.33                   0.00   \n",
       "4                         3.96                   0.00   \n",
       "...                        ...                    ...   \n",
       "21754                 13140.24                   0.00   \n",
       "21755                 16279.22                   0.00   \n",
       "21756                  7293.78                   0.00   \n",
       "21757                  7129.13                   0.00   \n",
       "21758                 16053.83                   0.03   \n",
       "\n",
       "      Total Deaths per Million Total Deaths per 100rb Case Fatality Rate  \\\n",
       "0                         1.84                   0.18             51.28%   \n",
       "1                         1.84                   0.18             48.78%   \n",
       "2                         0.00                   0.00              0.00%   \n",
       "3                         0.00                   0.00              0.00%   \n",
       "4                         1.84                   0.18             46.51%   \n",
       "...                        ...                    ...                ...   \n",
       "21754                   399.71                  39.97              3.04%   \n",
       "21755                   389.91                  38.99              2.40%   \n",
       "21756                   373.71                  37.37              5.12%   \n",
       "21757                   194.22                  19.42              2.72%   \n",
       "21758                   542.48                  54.25              3.38%   \n",
       "\n",
       "      Case Recovered Rate Growth Factor of New Cases  \\\n",
       "0                 105.13%                        NaN   \n",
       "1                 100.00%                       1.00   \n",
       "2                   0.00%                        NaN   \n",
       "3                 150.00%                        NaN   \n",
       "4                  95.35%                       1.00   \n",
       "...                   ...                        ...   \n",
       "21754              96.69%                        NaN   \n",
       "21755              97.50%                       4.00   \n",
       "21756              94.82%                       4.00   \n",
       "21757              97.19%                       1.00   \n",
       "21758              96.44%                       0.79   \n",
       "\n",
       "       Growth Factor of New Deaths  \n",
       "0                              NaN  \n",
       "1                              1.0  \n",
       "2                              NaN  \n",
       "3                              NaN  \n",
       "4                              1.0  \n",
       "...                            ...  \n",
       "21754                          1.0  \n",
       "21755                          1.0  \n",
       "21756                          1.0  \n",
       "21757                          1.0  \n",
       "21758                          0.8  \n",
       "\n",
       "[21759 rows x 38 columns]"
      ]
     },
     "execution_count": 19,
     "metadata": {},
     "output_type": "execute_result"
    }
   ],
   "source": [
    "covid"
   ]
  },
  {
   "cell_type": "code",
   "execution_count": 28,
   "metadata": {},
   "outputs": [
    {
     "data": {
      "text/plain": [
       "<AxesSubplot:>"
      ]
     },
     "execution_count": 28,
     "metadata": {},
     "output_type": "execute_result"
    },
    {
     "data": {
      "image/png": "[encoded data removed]",
      "text/plain": [
       "<Figure size 720x360 with 1 Axes>"
      ]
     },
     "metadata": {
      "needs_background": "light"
     },
     "output_type": "display_data"
    }
   ],
   "source": [
    "covid['Total Deaths per Million'].plot(kind='box', figsize=(10,5) )"
   ]
  },
  {
   "cell_type": "code",
   "execution_count": 32,
   "metadata": {},
   "outputs": [
    {
     "data": {
      "text/plain": [
       "88.0555172572269"
      ]
     },
     "execution_count": 32,
     "metadata": {},
     "output_type": "execute_result"
    }
   ],
   "source": [
    "from scipy import stats\n",
    "stats.percentileofscore(covid['Total Recovered'],87605,'strict')"
   ]
  },
  {
   "cell_type": "code",
   "execution_count": 35,
   "metadata": {},
   "outputs": [
    {
     "data": {
      "text/plain": [
       "'Total Recovered range: 4105680'"
      ]
     },
     "execution_count": 35,
     "metadata": {},
     "output_type": "execute_result"
    }
   ],
   "source": [
    "covid['Total Recovered'].name + ' range: ' + str(covid['Total Recovered'].max() - covid['Total Recovered'].min())"
   ]
  },
  {
   "cell_type": "code",
   "execution_count": 39,
   "metadata": {},
   "outputs": [
    {
     "data": {
      "text/plain": [
       "1533.98"
      ]
     },
     "execution_count": 39,
     "metadata": {},
     "output_type": "execute_result"
    }
   ],
   "source": [
    "covid['Total Deaths per Million'].max()\n"
   ]
  },
  {
   "cell_type": "code",
   "execution_count": 40,
   "metadata": {},
   "outputs": [
    {
     "data": {
      "text/plain": [
       "0.0"
      ]
     },
     "execution_count": 40,
     "metadata": {},
     "output_type": "execute_result"
    }
   ],
   "source": [
    "covid['Total Deaths per Million'].min()"
   ]
  },
  {
   "cell_type": "code",
   "execution_count": null,
   "metadata": {},
   "outputs": [],
   "source": []
  }
 ],
 "metadata": {
  "interpreter": {
   "hash": "1b0d91e74b504cbed97ef7e4785d593c50c36d2c5677c03928d7f9b967595265"
  },
  "kernelspec": {
   "display_name": "Python 3.9.7 ('base')",
   "language": "python",
   "name": "python3"
  },
  "language_info": {
   "codemirror_mode": {
    "name": "ipython",
    "version": 3
   },
   "file_extension": ".py",
   "mimetype": "text/x-python",
   "name": "python",
   "nbconvert_exporter": "python",
   "pygments_lexer": "ipython3",
   "version": "3.9.7"
  },
  "orig_nbformat": 4
 },
 "nbformat": 4,
 "nbformat_minor": 2
}
